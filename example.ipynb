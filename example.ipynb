{
 "cells": [
  {
   "cell_type": "code",
   "execution_count": 1,
   "metadata": {
    "collapsed": false
   },
   "outputs": [],
   "source": [
    "from nbpapaya import Brain, clear_brain, Brain, Surface, get_example_data, Overlay\n",
    "import os"
   ]
  },
  {
   "cell_type": "code",
   "execution_count": 2,
   "metadata": {
    "collapsed": false
   },
   "outputs": [],
   "source": [
    "MeshOpts =  { os.path.abspath(\"nbpapaya_example_data/freesurfer_curvature.vtk\"):{  \n",
    "                      \"filename\": os.path.abspath(\"nbpapaya_example_data/vertices.csv\"),\n",
    "                      \"colormin\": \"#0000FF\", \n",
    "                      \"colormax\": \"#FF0000\",\n",
    "                      \"vmin\": 2,\n",
    "                      \"vmax\": 5,\n",
    "                      \"key\": \"freesurfer thickness\",\n",
    "                      \"key_options\": [\"freesurfer thickness\", \"freesurfer curvature\", \n",
    "                                    \"area\", \"freesurfer convexity (sulc)\", \"geodesic depth\", \n",
    "                                    \"mean curvature\", \"travel depth\"],    \n",
    "                      \"threshold\": 2.4,\n",
    "                      \"mesh_transparency\": 1,\n",
    "                      \"mesh_visible\": True,\n",
    "                      \"overlay_transparency\": 1\n",
    "                  }\n",
    "                  \n",
    "                }"
   ]
  },
  {
   "cell_type": "code",
   "execution_count": 3,
   "metadata": {
    "collapsed": false,
    "scrolled": false
   },
   "outputs": [
    {
     "name": "stdout",
     "output_type": "stream",
     "text": [
      "doing checks /Users/keshavan/.jupyter/custom/\n"
     ]
    },
    {
     "data": {
      "text/html": [
       "<iframe src=\"http://127.0.0.1:8888/files/papaya_data/tmp9yvM7c.html\"\n",
       "                   width=\"600\"\n",
       "                   height=\"450\"\n",
       "                   scrolling=\"no\"\n",
       "                   frameBorder=\"0\">\n",
       "                   </iframe>"
      ],
      "text/plain": [
       "<nbpapaya.base.Overlay at 0x103713f50>"
      ]
     },
     "execution_count": 3,
     "metadata": {},
     "output_type": "execute_result"
    }
   ],
   "source": [
    "Overlay(MeshOpts, \n",
    "        port=8888, host=\"127.0.0.1\")"
   ]
  },
  {
   "cell_type": "code",
   "execution_count": 6,
   "metadata": {
    "collapsed": false
   },
   "outputs": [
    {
     "name": "stdout",
     "output_type": "stream",
     "text": [
      "doing checks /Users/keshavan/.jupyter/custom/\n"
     ]
    },
    {
     "data": {
      "text/html": [
       "<iframe src=\"http://127.0.0.1:8888/files/papaya_data/tmpT0XZPO.html\"\n",
       "                   width=\"600\"\n",
       "                   height=\"450\"\n",
       "                   scrolling=\"no\"\n",
       "                   frameBorder=\"0\">\n",
       "                   </iframe>"
      ],
      "text/plain": [
       "<nbpapaya.base.Surface at 0x104b96a50>"
      ]
     },
     "execution_count": 6,
     "metadata": {},
     "output_type": "execute_result"
    }
   ],
   "source": [
    "Surface(os.path.abspath(\"nbpapaya_example_data/freesurfer_curvature.vtk\"), \n",
    "        port=8888, host=\"127.0.0.1\")"
   ]
  },
  {
   "cell_type": "code",
   "execution_count": 5,
   "metadata": {
    "collapsed": false,
    "scrolled": false
   },
   "outputs": [
    {
     "name": "stdout",
     "output_type": "stream",
     "text": [
      "doing checks /Users/keshavan/.jupyter/custom/\n"
     ]
    },
    {
     "data": {
      "text/html": [
       "<iframe src=\"http://127.0.0.1:8888/files/papaya_data/tmpNpx5qc.html\"\n",
       "                   width=\"600\"\n",
       "                   height=\"450\"\n",
       "                   scrolling=\"no\"\n",
       "                   frameBorder=\"0\">\n",
       "                   </iframe>"
      ],
      "text/plain": [
       "<nbpapaya.base.Brain at 0x104b96550>"
      ]
     },
     "execution_count": 5,
     "metadata": {},
     "output_type": "execute_result"
    }
   ],
   "source": [
    "Brain(os.path.abspath(\"data/001.mgz.nii.gz\"),port=8888, host=\"127.0.0.1\", width=1000, height=1000)"
   ]
  },
  {
   "cell_type": "code",
   "execution_count": null,
   "metadata": {
    "collapsed": true
   },
   "outputs": [],
   "source": []
  }
 ],
 "metadata": {
  "kernelspec": {
   "display_name": "Python 2",
   "language": "python",
   "name": "python2"
  },
  "language_info": {
   "codemirror_mode": {
    "name": "ipython",
    "version": 2
   },
   "file_extension": ".py",
   "mimetype": "text/x-python",
   "name": "python",
   "nbconvert_exporter": "python",
   "pygments_lexer": "ipython2",
   "version": "2.7.10"
  }
 },
 "nbformat": 4,
 "nbformat_minor": 0
}
