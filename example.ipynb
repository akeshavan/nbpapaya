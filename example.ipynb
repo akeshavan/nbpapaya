{
 "cells": [
  {
   "cell_type": "code",
   "execution_count": 1,
   "metadata": {
    "collapsed": false
   },
   "outputs": [],
   "source": [
    "from nbpapaya import Brain, clear_brain, Brain, Surface"
   ]
  },
  {
   "cell_type": "code",
   "execution_count": 2,
   "metadata": {
    "collapsed": false
   },
   "outputs": [
    {
     "name": "stdout",
     "output_type": "stream",
     "text": [
      "doing checks /Users/keshavan/.ipython/profile_default/static/custom/\n"
     ]
    },
    {
     "data": {
      "text/html": [
       "<iframe src=\"http://localhost:8888/files/papaya_data/tmpmzEHMe.html\"\n",
       "                   width=\"600\"\n",
       "                   height=\"450\"\n",
       "                   scrolling=\"no\"\n",
       "                   frameBorder=\"0\">\n",
       "                   </iframe>"
      ],
      "text/plain": [
       "<nbpapaya.base.Surface at 0x1043dba50>"
      ]
     },
     "execution_count": 2,
     "metadata": {},
     "output_type": "execute_result"
    }
   ],
   "source": [
    "Surface(\"/Users/keshavan/data/freesurfer_cortex_labels.vtk\")"
   ]
  },
  {
   "cell_type": "code",
   "execution_count": 3,
   "metadata": {
    "collapsed": false
   },
   "outputs": [
    {
     "ename": "NameError",
     "evalue": "global name 'Brain2' is not defined",
     "output_type": "error",
     "traceback": [
      "\u001b[0;31m---------------------------------------------------------------------------\u001b[0m",
      "\u001b[0;31mNameError\u001b[0m                                 Traceback (most recent call last)",
      "\u001b[0;32m<ipython-input-3-f7729eda7414>\u001b[0m in \u001b[0;36m<module>\u001b[0;34m()\u001b[0m\n\u001b[0;32m----> 1\u001b[0;31m \u001b[0mBrain\u001b[0m\u001b[0;34m(\u001b[0m\u001b[0;34m\"/Users/keshavan/data/ds008/sub001/anatomy/highres001.nii.gz\"\u001b[0m\u001b[0;34m)\u001b[0m\u001b[0;34m\u001b[0m\u001b[0m\n\u001b[0m",
      "\u001b[0;32m/Users/keshavan/Software/nbpapaya/nbpapaya/base.py\u001b[0m in \u001b[0;36m__init__\u001b[0;34m(self, fnames, port, num, options, image_options, width, height)\u001b[0m\n\u001b[1;32m     91\u001b[0m         def __init__(self, fnames, port=8888, num=None, options=None, image_options=None,\n\u001b[1;32m     92\u001b[0m                      width=600, height=450):\n\u001b[0;32m---> 93\u001b[0;31m             super(Brain2,self).__init__(fnames, port=8888, num=None, options=None, image_options=None,\n\u001b[0m\u001b[1;32m     94\u001b[0m                      width=600, height=450)\n\u001b[1;32m     95\u001b[0m \u001b[0;34m\u001b[0m\u001b[0m\n",
      "\u001b[0;31mNameError\u001b[0m: global name 'Brain2' is not defined"
     ]
    }
   ],
   "source": [
    "Brain(\"/Users/keshavan/data/ds008/sub001/anatomy/highres001.nii.gz\")"
   ]
  },
  {
   "cell_type": "code",
   "execution_count": null,
   "metadata": {
    "collapsed": true
   },
   "outputs": [],
   "source": []
  }
 ],
 "metadata": {
  "kernelspec": {
   "display_name": "Python 2",
   "language": "python",
   "name": "python2"
  },
  "language_info": {
   "codemirror_mode": {
    "name": "ipython",
    "version": 2
   },
   "file_extension": ".py",
   "mimetype": "text/x-python",
   "name": "python",
   "nbconvert_exporter": "python",
   "pygments_lexer": "ipython2",
   "version": "2.7.9"
  }
 },
 "nbformat": 4,
 "nbformat_minor": 0
}
