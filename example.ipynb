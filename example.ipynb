{
 "cells": [
  {
   "cell_type": "code",
   "execution_count": 1,
   "metadata": {
    "collapsed": false
   },
   "outputs": [],
   "source": [
    "from nbpapaya import Brain, clear_brain, Brain2, Surface"
   ]
  },
  {
   "cell_type": "code",
   "execution_count": 2,
   "metadata": {
    "collapsed": true
   },
   "outputs": [],
   "source": [
    "from IPython.display import HTML"
   ]
  },
  {
   "cell_type": "code",
   "execution_count": 3,
   "metadata": {
    "collapsed": false
   },
   "outputs": [
    {
     "name": "stdout",
     "output_type": "stream",
     "text": [
      "doing checks /Users/keshavan/.ipython/profile_default/static/custom/\n"
     ]
    },
    {
     "data": {
      "text/html": [
       "<iframe src=\"http://localhost:8888/files/papaya_data/tmpDvQX1W.html\"\n",
       "                   width=\"600\"\n",
       "                   height=\"450\"\n",
       "                   scrolling=\"no\"\n",
       "                   frameBorder=\"0\">\n",
       "                   </iframe>"
      ],
      "text/plain": [
       "<nbpapaya.base.Surface at 0x1043b7290>"
      ]
     },
     "execution_count": 3,
     "metadata": {},
     "output_type": "execute_result"
    }
   ],
   "source": [
    "Surface(\"/Users/keshavan/data/freesurfer_cortex_labels.vtk\")"
   ]
  },
  {
   "cell_type": "code",
   "execution_count": null,
   "metadata": {
    "collapsed": true
   },
   "outputs": [
    {
     "data": {
      "text/html": [
       "<iframe src=\"http://localhost:8888/files/papaya_data/tmpZ5Nqne.html\"\n",
       "                   width=\"600\"\n",
       "                   height=\"450\"\n",
       "                   scrolling=\"no\"\n",
       "                   frameBorder=\"0\">\n",
       "                   </iframe>"
      ],
      "text/plain": [
       "<nbpapaya.brain_view.Brain at 0x1043afb90>"
      ]
     },
     "execution_count": 7,
     "metadata": {},
     "output_type": "execute_result"
    }
   ],
   "source": [
    "Brain(\"/Users/keshavan/data/ds008/sub001/anatomy/highres001.nii.gz\")"
   ]
  },
  {
   "cell_type": "code",
   "execution_count": null,
   "metadata": {
    "collapsed": true
   },
   "outputs": [],
   "source": []
  }
 ],
 "metadata": {
  "kernelspec": {
   "display_name": "Python 2",
   "language": "python",
   "name": "python2"
  },
  "language_info": {
   "codemirror_mode": {
    "name": "ipython",
    "version": 2
   },
   "file_extension": ".py",
   "mimetype": "text/x-python",
   "name": "python",
   "nbconvert_exporter": "python",
   "pygments_lexer": "ipython2",
   "version": "2.7.9"
  }
 },
 "nbformat": 4,
 "nbformat_minor": 0
}
