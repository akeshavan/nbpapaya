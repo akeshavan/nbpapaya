{
 "cells": [
  {
   "cell_type": "code",
   "execution_count": 1,
   "metadata": {
    "collapsed": false
   },
   "outputs": [],
   "source": [
    "from nbpapaya import Brain, clear_brain, Brain, Surface, get_example_data, Overlay\n",
    "import os"
   ]
  },
  {
   "cell_type": "code",
   "execution_count": 5,
   "metadata": {
    "collapsed": false
   },
   "outputs": [],
   "source": [
    "MeshOpts =  { os.path.abspath(\"nbpapaya_example_data/freesurfer_cortex_labels.vtk\"):{  \n",
    "                      \"filename\": os.path.abspath(\"nbpapaya_example_data/vertices.csv\"),\n",
    "                      \"colormin\": \"#0000FF\", \n",
    "                      \"colormax\": \"#FF0000\",\n",
    "                      \"vmin\": 2,\n",
    "                      \"vmax\": 5,\n",
    "                      \"key\": \"freesurfer thickness\",\n",
    "                      \"key_options\": [\"freesurfer thickness\", \"freesurfer curvature\", \n",
    "                                    \"area\", \"freesurfer convexity (sulc)\", \"geodesic depth\", \n",
    "                                    \"mean curvature\", \"travel depth\"],    \n",
    "                      \"threshold\": 2.4\n",
    "                  }\n",
    "                  \n",
    "                }"
   ]
  },
  {
   "cell_type": "code",
   "execution_count": 6,
   "metadata": {
    "collapsed": false,
    "scrolled": false
   },
   "outputs": [
    {
     "name": "stdout",
     "output_type": "stream",
     "text": [
      "doing checks /Users/keshavan/.jupyter/custom/\n",
      "{'tmpawPC57.vtk': 'papaya_data/tmpawPC57.vtk'}\n",
      "{'tmpv_BKpm.csv': 'papaya_data/tmpv_BKpm.csv'}\n",
      "{'/Users/keshavan/nbpapaya/nbpapaya_example_data/freesurfer_cortex_labels.vtk': {'key_options': ['freesurfer thickness', 'freesurfer curvature', 'area', 'freesurfer convexity (sulc)', 'geodesic depth', 'mean curvature', 'travel depth'], 'threshold': 2.4, 'colormin': '#0000FF', 'key': 'freesurfer thickness', 'vmin': 2, 'vmax': 5, 'colormax': '#FF0000', 'filename': 'http://127.0.0.1:8888/files/papaya_data/tmpv_BKpm.csv'}} {'http://127.0.0.1:8888/files/papaya_data/tmpawPC57.vtk': {'key_options': ['freesurfer thickness', 'freesurfer curvature', 'area', 'freesurfer convexity (sulc)', 'geodesic depth', 'mean curvature', 'travel depth'], 'threshold': 2.4, 'colormin': '#0000FF', 'key': 'freesurfer thickness', 'vmin': 2, 'vmax': 5, 'colormax': '#FF0000', 'filename': 'http://127.0.0.1:8888/files/papaya_data/tmpv_BKpm.csv'}}\n"
     ]
    },
    {
     "data": {
      "text/html": [
       "<iframe src=\"http://127.0.0.1:8888/files/papaya_data/tmpjsURaj.html\"\n",
       "                   width=\"600\"\n",
       "                   height=\"450\"\n",
       "                   scrolling=\"no\"\n",
       "                   frameBorder=\"0\">\n",
       "                   </iframe>"
      ],
      "text/plain": [
       "<nbpapaya.base.Overlay at 0x103804490>"
      ]
     },
     "execution_count": 6,
     "metadata": {},
     "output_type": "execute_result"
    }
   ],
   "source": [
    "Overlay(MeshOpts, \n",
    "        port=8888, host=\"127.0.0.1\")"
   ]
  },
  {
   "cell_type": "code",
   "execution_count": 4,
   "metadata": {
    "collapsed": false
   },
   "outputs": [
    {
     "data": {
      "text/plain": [
       "'<iframe src=\"http://127.0.0.1:8888/files/papaya_data/tmpqR77av.html\"\\n                   width=\"600\"\\n                   height=\"450\"\\n                   scrolling=\"no\"\\n                   frameBorder=\"0\">\\n                   </iframe>'"
      ]
     },
     "execution_count": 4,
     "metadata": {},
     "output_type": "execute_result"
    }
   ],
   "source": [
    "_3._repr_html_()"
   ]
  },
  {
   "cell_type": "code",
   "execution_count": null,
   "metadata": {
    "collapsed": true
   },
   "outputs": [],
   "source": [
    "#get_example_data()"
   ]
  },
  {
   "cell_type": "code",
   "execution_count": 5,
   "metadata": {
    "collapsed": false
   },
   "outputs": [
    {
     "name": "stdout",
     "output_type": "stream",
     "text": [
      "doing checks /Users/keshavan/.jupyter/custom/\n",
      "{'tmpqtOV1L.vtk': 'papaya_data/tmpqtOV1L.vtk'}\n"
     ]
    },
    {
     "data": {
      "text/html": [
       "<iframe src=\"http://127.0.0.1:8888/files/papaya_data/tmpsfWGkt.html\"\n",
       "                   width=\"600\"\n",
       "                   height=\"450\"\n",
       "                   scrolling=\"no\"\n",
       "                   frameBorder=\"0\">\n",
       "                   </iframe>"
      ],
      "text/plain": [
       "<nbpapaya.base.Surface at 0x104a36bd0>"
      ]
     },
     "execution_count": 5,
     "metadata": {},
     "output_type": "execute_result"
    }
   ],
   "source": [
    "Surface(os.path.abspath(\"nbpapaya_example_data/freesurfer_cortex_labels.vtk\"), \n",
    "        port=8888, host=\"127.0.0.1\")"
   ]
  },
  {
   "cell_type": "code",
   "execution_count": null,
   "metadata": {
    "collapsed": false
   },
   "outputs": [],
   "source": [
    "_3._repr_html_()"
   ]
  },
  {
   "cell_type": "code",
   "execution_count": 6,
   "metadata": {
    "collapsed": false,
    "scrolled": false
   },
   "outputs": [
    {
     "name": "stdout",
     "output_type": "stream",
     "text": [
      "doing checks /Users/keshavan/.jupyter/custom/\n",
      "{'tmpxpBv4D.nii.gz': 'papaya_data/tmpxpBv4D.nii.gz'}\n"
     ]
    },
    {
     "data": {
      "text/html": [
       "<iframe src=\"http://127.0.0.1:8888/files/papaya_data/tmp9H0SRH.html\"\n",
       "                   width=\"600\"\n",
       "                   height=\"450\"\n",
       "                   scrolling=\"no\"\n",
       "                   frameBorder=\"0\">\n",
       "                   </iframe>"
      ],
      "text/plain": [
       "<nbpapaya.base.Brain at 0x104a36dd0>"
      ]
     },
     "execution_count": 6,
     "metadata": {},
     "output_type": "execute_result"
    }
   ],
   "source": [
    "Brain(os.path.abspath(\"data/001.mgz.nii.gz\"),port=8888, host=\"127.0.0.1\", width=1000, height=1000)"
   ]
  },
  {
   "cell_type": "code",
   "execution_count": null,
   "metadata": {
    "collapsed": true
   },
   "outputs": [],
   "source": []
  }
 ],
 "metadata": {
  "kernelspec": {
   "display_name": "Python 2",
   "language": "python",
   "name": "python2"
  },
  "language_info": {
   "codemirror_mode": {
    "name": "ipython",
    "version": 2
   },
   "file_extension": ".py",
   "mimetype": "text/x-python",
   "name": "python",
   "nbconvert_exporter": "python",
   "pygments_lexer": "ipython2",
   "version": "2.7.10"
  }
 },
 "nbformat": 4,
 "nbformat_minor": 0
}
